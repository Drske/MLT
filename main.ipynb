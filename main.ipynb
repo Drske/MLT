{
 "cells": [
  {
   "cell_type": "code",
   "execution_count": null,
   "metadata": {},
   "outputs": [],
   "source": [
    "import torch\n",
    "import torchvision\n",
    "import torchvision.transforms as transforms\n",
    "\n",
    "transform = transforms.Compose(\n",
    "    [transforms.ToTensor(), transforms.Normalize((0.1307,), (0.3081,))]\n",
    ")\n",
    "\n",
    "train_dataset = torchvision.datasets.MNIST(\n",
    "    root=\"./data\", train=True, transform=transform, download=True\n",
    ")\n",
    "valid_dataset = torchvision.datasets.MNIST(\n",
    "    root=\"./data\", train=False, transform=transform, download=True\n",
    ")\n",
    "\n",
    "train_loader = torch.utils.data.DataLoader(train_dataset, batch_size=256, shuffle=True)\n",
    "valid_loader = torch.utils.data.DataLoader(valid_dataset, batch_size=256, shuffle=False)\n",
    "\n",
    "loaders = {}\n",
    "loaders['train'] = train_loader\n",
    "loaders['valid'] = valid_loader"
   ]
  },
  {
   "cell_type": "code",
   "execution_count": null,
   "metadata": {},
   "outputs": [],
   "source": [
    "# After https://pytorch.org/tutorials/beginner/introyt/trainingyt.html\n",
    "# and https://pytorch.org/tutorials/beginner/transfer_learning_tutorial.html#finetuning-the-convnet\n",
    "\n",
    "from tqdm import tqdm\n",
    "\n",
    "from src.collectors import DataCollector\n",
    "\n",
    "def train(model, loaders, criterion, optimizer, scheduler, num_epochs = 5, device = torch.device('cpu')):\n",
    "    model.to(device)\n",
    "    \n",
    "    dc = DataCollector()\n",
    "    \n",
    "    for epoch in range(num_epochs):\n",
    "        dc.current_epoch = epoch\n",
    "        \n",
    "        train_loss, train_acc = one_epoch('train', model, loaders['train'], criterion, scheduler, optimizer, epoch, device)\n",
    "        valid_loss, valid_acc = one_epoch('valid', model, loaders['valid'], criterion, scheduler, optimizer, epoch, device)\n",
    "        \n",
    "        print(f\"Epoch [{epoch+1}/{num_epochs}], Loss: {train_loss:.4f}, Accuracy: {train_acc}\")\n",
    "        print(f\"Epoch [{epoch+1}/{num_epochs}], Loss: {valid_loss:.4f}, Accuracy: {valid_acc}\")\n",
    "        \n",
    "def one_epoch(phase, model, loader, criterion, scheduler, optimizer, epoch_idx, device):\n",
    "    if phase == 'train':\n",
    "        model.train()\n",
    "    elif phase == 'valid':\n",
    "        model.eval()\n",
    "    else:\n",
    "        raise ValueError(f\"Phase {phase} is not a proper learning phase (use 'train' or 'valid')!\")\n",
    "        \n",
    "    running_loss = 0.0\n",
    "    running_corrects = 0\n",
    "    dataset_size = 0\n",
    "    \n",
    "    dc = DataCollector()\n",
    "    \n",
    "    for batch, (inputs, labels) in enumerate(tqdm(loader)):\n",
    "        dc.current_batch = batch\n",
    "        inputs, labels = inputs.to(device), labels.to(device)\n",
    "        \n",
    "        optimizer.zero_grad()\n",
    "        \n",
    "        with torch.set_grad_enabled(phase == 'train'):\n",
    "            outputs = model(inputs)\n",
    "            _, predictions = torch.max(outputs, 1)\n",
    "            loss = criterion(outputs, labels)\n",
    "            \n",
    "            if phase == 'train':\n",
    "                loss.backward()\n",
    "                optimizer.step()\n",
    "                \n",
    "        running_loss += loss.item() * inputs.size(0)\n",
    "        running_corrects += torch.sum(predictions == labels.data)\n",
    "        dataset_size += inputs.size(0)\n",
    "        \n",
    "        if phase == 'train' and scheduler is not None:\n",
    "            scheduler.step()\n",
    "            \n",
    "    epoch_loss = running_loss / dataset_size\n",
    "    epoch_acc = running_corrects / dataset_size\n",
    "    \n",
    "    return epoch_loss, epoch_acc"
   ]
  },
  {
   "cell_type": "code",
   "execution_count": null,
   "metadata": {},
   "outputs": [],
   "source": [
    "from torchinfo import summary\n",
    "\n",
    "from src.modules.blocks import BasicBlock\n",
    "from src.modules.models import ResNet\n",
    "\n",
    "model = ResNet(block=BasicBlock, in_channels=1, layers=[3, 4, 6, 3], num_classes=10)\n",
    "    \n",
    "summary(model)"
   ]
  },
  {
   "cell_type": "code",
   "execution_count": null,
   "metadata": {},
   "outputs": [],
   "source": [
    "import torch.nn as nn\n",
    "import torch.optim as optim\n",
    "\n",
    "criterion = nn.CrossEntropyLoss()\n",
    "optimizer = optim.Adam(model.parameters())\n",
    "# scheduler = optim.lr_scheduler.StepLR(optimizer, step_size=7, gamma=0.1)\n",
    "scheduler = None\n",
    "device = torch.device('mps')\n",
    "\n",
    "train(model, loaders, criterion, optimizer, scheduler, 1, device)"
   ]
  },
  {
   "cell_type": "code",
   "execution_count": null,
   "metadata": {},
   "outputs": [],
   "source": [
    "dc.data[0, 0, 'BasicBlock', 1]"
   ]
  },
  {
   "cell_type": "code",
   "execution_count": null,
   "metadata": {},
   "outputs": [],
   "source": [
    "dc = DataCollector()\n",
    "dc.data[0, 0, 'BasicBlock', 1]['init']['conv1.weight']"
   ]
  },
  {
   "cell_type": "code",
   "execution_count": null,
   "metadata": {},
   "outputs": [],
   "source": [
    "def parameters_distance(pre: dict, post: dict):\n",
    "    # for name, _ in pre:\n",
    "    #     print('pre', name)\n",
    "    # for name, _ in post:\n",
    "    #     print('post', name)\n",
    "    distance = 0.0\n",
    "    for name, pre_params in pre.items():\n",
    "        if name not in post:\n",
    "            raise ValueError(f\"Parameter '{name}' is missing in the 'post' parameters.\")\n",
    "        post_params = post[name]\n",
    "        if pre_params.shape != post_params.shape:\n",
    "            raise ValueError(f\"Parameter '{name}' has different shapes in 'pre' and 'post'.\")\n",
    "        # Calculate the squared Euclidean distance between parameters\n",
    "        distance += torch.sum((pre_params - post_params) ** 2).item()\n",
    "    return distance ** 0.5  # Return the square root of the sum of squared distances\n",
    "\n",
    "dc = DataCollector()\n",
    "\n",
    "for (epoch, batch, block, depth) in dc.data.keys():\n",
    "    pre = dc.data[epoch, batch, block, depth]['pre']\n",
    "    post = dc.data[epoch, batch, block, depth]['post']\n",
    "    \n",
    "    print(pre['conv1.weight'])\n",
    "    \n",
    "    # print(epoch, batch, block, depth, parameters_distance(pre, post))"
   ]
  }
 ],
 "metadata": {
  "kernelspec": {
   "display_name": "tum",
   "language": "python",
   "name": "python3"
  },
  "language_info": {
   "codemirror_mode": {
    "name": "ipython",
    "version": 3
   },
   "file_extension": ".py",
   "mimetype": "text/x-python",
   "name": "python",
   "nbconvert_exporter": "python",
   "pygments_lexer": "ipython3",
   "version": "3.12.3"
  }
 },
 "nbformat": 4,
 "nbformat_minor": 2
}
