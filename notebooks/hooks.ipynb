{
 "cells": [
  {
   "cell_type": "code",
   "execution_count": 6,
   "metadata": {},
   "outputs": [
    {
     "name": "stdout",
     "output_type": "stream",
     "text": [
      "Forward hook: torch.Size([1, 5])\n"
     ]
    }
   ],
   "source": [
    "import torch\n",
    "import torch.nn as nn\n",
    "\n",
    "# Define a simple neural network\n",
    "class SimpleNet(nn.Module):\n",
    "    def __init__(self):\n",
    "        super(SimpleNet, self).__init__()\n",
    "        self.fc1 = nn.Linear(10, 5)\n",
    "        self.fc2 = nn.Linear(5, 1)\n",
    "\n",
    "    def forward(self, x):\n",
    "        x = torch.relu(self.fc1(x))\n",
    "        x = self.fc2(x)\n",
    "        return x\n",
    "\n",
    "# Instantiate the network\n",
    "model = SimpleNet()\n",
    "\n",
    "# Define a forward hook function\n",
    "def forward_hook(module, input, output):\n",
    "    print(\"Forward hook:\", output.shape)\n",
    "\n",
    "# Attach the forward hook to a specific layer\n",
    "hook_handle = model.fc1.register_forward_hook(forward_hook)\n",
    "\n",
    "# Test the model with some input\n",
    "input_tensor = torch.randn(1, 10)\n",
    "output = model(input_tensor)\n",
    "\n",
    "# Detach the hook after using it\n",
    "hook_handle.remove()"
   ]
  }
 ],
 "metadata": {
  "kernelspec": {
   "display_name": "tum",
   "language": "python",
   "name": "python3"
  },
  "language_info": {
   "codemirror_mode": {
    "name": "ipython",
    "version": 3
   },
   "file_extension": ".py",
   "mimetype": "text/x-python",
   "name": "python",
   "nbconvert_exporter": "python",
   "pygments_lexer": "ipython3",
   "version": "3.12.3"
  }
 },
 "nbformat": 4,
 "nbformat_minor": 2
}
